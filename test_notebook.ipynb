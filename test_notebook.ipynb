{
 "cells": [
  {
   "cell_type": "code",
   "execution_count": 22,
   "id": "351de69c",
   "metadata": {},
   "outputs": [],
   "source": [
    "import numpy as np\n",
    "import math\n",
    "import os\n",
    "from PIL import Image\n",
    "from PIL import ExifTags\n",
    "import defusedxml\n",
    "import shutil\n",
    "import ultralytics\n",
    "import shutil\n",
    "import cv2\n",
    "from pathlib import Path"
   ]
  },
  {
   "cell_type": "code",
   "execution_count": 23,
   "id": "d85f4967",
   "metadata": {},
   "outputs": [
    {
     "name": "stdout",
     "output_type": "stream",
     "text": [
      "<class 'PIL.Image.Exif'>\n",
      "<class 'method'>\n"
     ]
    }
   ],
   "source": [
    "waypoint1 = \"./DJI_202508081433_021_PineIslandbog5H3m5x3photo/DJI_20250808143604_0001_D_Waypoint1.JPG\"\n",
    "exif_data = Image.open(waypoint1).getexif()\n",
    "exif_data2 = Image.open(waypoint1)._getexif\n",
    "print(type(exif_data))\n",
    "print(type(exif_data2))"
   ]
  },
  {
   "cell_type": "code",
   "execution_count": 24,
   "id": "dfc217fe",
   "metadata": {},
   "outputs": [
    {
     "name": "stdout",
     "output_type": "stream",
     "text": [
      "{296: 2, 282: 72.0, 34853: 734, 34665: 260, 270: 'default', 271: 'DJI', 272: 'M3M', 305: '11.07.00.28', 274: 1, 306: '2025:08:08 14:36:04', 531: 2, 283: 72.0, 40092: b'0\\x00.\\x009\\x00.\\x001\\x004\\x002\\x00\\x00\\x00\\x00\\x00\\x00\\x00\\x00\\x00\\x00\\x00\\x00\\x00\\x00\\x00\\x00\\x00\\x00\\x00\\x00\\x00\\x00\\x00\\x00\\x00\\x00\\x00\\x00\\x00\\x00\\x00\\x00\\x00\\x00\\x00\\x00\\x00\\x00\\x00\\x00\\x00\\x00\\x00\\x00\\x00\\x00\\x00\\x00\\x00\\x00\\x00\\x00\\x00\\x00\\x00\\x00\\x00\\x00\\x00\\x00\\x00\\x00\\x00\\x00\\x00\\x00\\x00\\x00\\x00\\x00\\x00\\x00\\x00\\x00\\x00\\x00\\x00\\x00\\x00\\x00\\x00\\x00\\x00\\x00\\x00\\x00\\x00\\x00\\x00\\x00\\x00\\x00\\x00\\x00\\x00\\x00\\x00\\x00\\x00\\x00\\x00\\x00\\x00\\x00\\x00\\x00\\x00\\x00\\x00\\x00\\x00\\x00\\x00\\x00\\x00', 40094: b's\\x00i\\x00n\\x00g\\x00l\\x00e\\x00'}\n"
     ]
    }
   ],
   "source": [
    "print(exif_data)"
   ]
  },
  {
   "cell_type": "code",
   "execution_count": 25,
   "id": "5eb4f17a",
   "metadata": {},
   "outputs": [
    {
     "name": "stdout",
     "output_type": "stream",
     "text": [
      "<class 'dict'>\n",
      "\n",
      "{'xmpmeta': {'RDF': {'Description': {'about': 'DJI Meta Data', 'ModifyDate': '2025-08-08T14:36:04-04:00', 'CreateDate': '2025-08-08T14:36:04-04:00', 'Make': 'DJI', 'Model': 'M3M', 'format': 'image/jpg', 'Version': '7.0', 'GpsStatus': 'RTK', 'AltitudeType': 'RtkAlt', 'GpsLatitude': '+39.745344789', 'GpsLongitude': '-74.521732158', 'AbsoluteAltitude': '-9.543', 'RelativeAltitude': '+1.997', 'GimbalRollDegree': '+0.00', 'GimbalYawDegree': '+74.40', 'GimbalPitchDegree': '+0.00', 'FlightRollDegree': '+1.10', 'FlightYawDegree': '+74.20', 'FlightPitchDegree': '-3.10', 'FlightXSpeed': '0.2', 'FlightYSpeed': '-0.1', 'FlightZSpeed': '0.0', 'CamReverse': '0', 'GimbalReverse': '0', 'SelfData': '', 'RtkFlag': '50', 'RtkStdLon': '0.00999', 'RtkStdLat': '0.01101', 'RtkStdHgt': '0.02100', 'RtkDiffAge': '1.20000', 'SurveyingMode': '1', 'DewarpFlag': '0', 'DewarpData': '2022-06-08;3713.290000000000,3713.290000000000,7.020000000000,-8.720000000000,-0.112575240000,0.014874430000,-0.000085720000,0.000000100000,-0.027064110000', 'CalibratedFocalLength': '3725.151611', 'CalibratedOpticalCenterX': '2640.000000', 'CalibratedOpticalCenterY': '1978.000000', 'UTCAtExposure': '2025-08-08T18:36:10.824118', 'ShutterType': 'Mechanical', 'ShutterCount': '13948', 'FocusDistance': '46092', 'CameraSerialNumber': '493OL7L4AB041W', 'DroneModel': 'M3M', 'DroneSerialNumber': '1581F5FKD23CU00DVN3Y', 'CaptureUUID': 'a7346f6f51404616bbf81b330945b94a', 'PictureQuality': '89', 'HasSettings': 'False', 'HasCrop': 'False', 'AlreadyApplied': 'False', 'RigName': 'M3M', 'RigCameraIndex': '5'}}}}\n"
     ]
    }
   ],
   "source": [
    "xmp_data = Image.open(waypoint1).getxmp()\n",
    "print(type(xmp_data))\n",
    "print()\n",
    "print(xmp_data)"
   ]
  },
  {
   "cell_type": "code",
   "execution_count": 36,
   "id": "e8006916",
   "metadata": {},
   "outputs": [
    {
     "name": "stdout",
     "output_type": "stream",
     "text": [
      "dict_keys(['xmpmeta'])\n"
     ]
    }
   ],
   "source": [
    "# waypoint 2\n",
    "waypoint2 = \"./DJI_202508081433_021_PineIslandbog5H3m5x3photo/DJI_20250808143611_0002_D_Waypoint2.JPG\"\n",
    "xmp_data2 = Image.open(waypoint2).getxmp()\n",
    "print(xmp_data2.keys())"
   ]
  },
  {
   "cell_type": "code",
   "execution_count": 42,
   "id": "f983e0e8",
   "metadata": {},
   "outputs": [
    {
     "name": "stdout",
     "output_type": "stream",
     "text": [
      "<class 'dict'>\n",
      "<class 'str'>\n",
      "False\n",
      "<class 'float'>\n"
     ]
    }
   ],
   "source": [
    "print(type(xmp_data2))\n",
    "data = xmp_data2[\"xmpmeta\"][\"RDF\"][\"Description\"][\"GimbalPitchDegree\"]\n",
    "print(type(data))\n",
    "data = float(data)\n",
    "print(data > -50)\n",
    "print(type(data))"
   ]
  },
  {
   "cell_type": "code",
   "execution_count": null,
   "id": "b4758a4a",
   "metadata": {},
   "outputs": [],
   "source": []
  }
 ],
 "metadata": {
  "kernelspec": {
   "display_name": "venv",
   "language": "python",
   "name": "python3"
  },
  "language_info": {
   "codemirror_mode": {
    "name": "ipython",
    "version": 3
   },
   "file_extension": ".py",
   "mimetype": "text/x-python",
   "name": "python",
   "nbconvert_exporter": "python",
   "pygments_lexer": "ipython3",
   "version": "3.12.0"
  }
 },
 "nbformat": 4,
 "nbformat_minor": 5
}
